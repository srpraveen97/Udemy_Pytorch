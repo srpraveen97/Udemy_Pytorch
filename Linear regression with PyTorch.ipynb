{
 "cells": [
  {
   "cell_type": "code",
   "execution_count": 176,
   "metadata": {},
   "outputs": [],
   "source": [
    "import torch"
   ]
  },
  {
   "cell_type": "code",
   "execution_count": 177,
   "metadata": {},
   "outputs": [],
   "source": [
    "import numpy as np\n",
    "import matplotlib.pyplot as plt\n",
    "%matplotlib inline"
   ]
  },
  {
   "cell_type": "code",
   "execution_count": 178,
   "metadata": {},
   "outputs": [],
   "source": [
    "import torch.nn as nn"
   ]
  },
  {
   "cell_type": "code",
   "execution_count": 226,
   "metadata": {},
   "outputs": [],
   "source": [
    "X = torch.linspace(1,50,50).reshape(-1,1)   # -1 is a placeholder calculates the dimension automatically"
   ]
  },
  {
   "cell_type": "code",
   "execution_count": 227,
   "metadata": {},
   "outputs": [],
   "source": [
    "e = torch.randint(0,1,(50,1),dtype=torch.float)"
   ]
  },
  {
   "cell_type": "code",
   "execution_count": 228,
   "metadata": {},
   "outputs": [],
   "source": [
    "y = 2*X - 1"
   ]
  },
  {
   "cell_type": "code",
   "execution_count": 229,
   "metadata": {},
   "outputs": [
    {
     "data": {
      "text/plain": [
       "<matplotlib.collections.PathCollection at 0x24effc9e6a0>"
      ]
     },
     "execution_count": 229,
     "metadata": {},
     "output_type": "execute_result"
    },
    {
     "data": {
      "image/png": "[encoded data removed]",
      "text/plain": [
       "<Figure size 432x288 with 1 Axes>"
      ]
     },
     "metadata": {
      "needs_background": "light"
     },
     "output_type": "display_data"
    }
   ],
   "source": [
    "plt.scatter(X.numpy(),y.numpy())"
   ]
  },
  {
   "cell_type": "code",
   "execution_count": 230,
   "metadata": {},
   "outputs": [
    {
     "name": "stdout",
     "output_type": "stream",
     "text": [
      "Parameter containing:\n",
      "tensor([[-0.4671]], requires_grad=True)\n",
      "Parameter containing:\n",
      "tensor([0.8193], requires_grad=True)\n"
     ]
    }
   ],
   "source": [
    "model = nn.Linear(1,1)\n",
    "print(model.weight)\n",
    "print(model.bias)"
   ]
  },
  {
   "cell_type": "code",
   "execution_count": 231,
   "metadata": {},
   "outputs": [],
   "source": [
    "class Model(nn.Module):\n",
    "    \n",
    "    def __init__(self,in_features,out_features):\n",
    "        \n",
    "        super().__init__()\n",
    "        self.linear = nn.Linear(in_features,out_features)\n",
    "        \n",
    "    def forward(self,x):\n",
    "        y_pred = self.linear(x)\n",
    "        return y_pred"
   ]
  },
  {
   "cell_type": "code",
   "execution_count": 232,
   "metadata": {},
   "outputs": [
    {
     "name": "stdout",
     "output_type": "stream",
     "text": [
      "Parameter containing:\n",
      "tensor([[-0.3976]], requires_grad=True)\n",
      "Parameter containing:\n",
      "tensor([0.1396], requires_grad=True)\n"
     ]
    }
   ],
   "source": [
    "model = Model(1,1)\n",
    "\n",
    "print(model.linear.weight)\n",
    "print(model.linear.bias)"
   ]
  },
  {
   "cell_type": "code",
   "execution_count": 233,
   "metadata": {},
   "outputs": [
    {
     "name": "stdout",
     "output_type": "stream",
     "text": [
      "linear.weight \t -0.3975948095321655\n",
      "linear.bias \t 0.1395951509475708\n"
     ]
    }
   ],
   "source": [
    "for name,param in model.named_parameters():\n",
    "    print(name,'\\t',param.item())"
   ]
  },
  {
   "cell_type": "code",
   "execution_count": 234,
   "metadata": {},
   "outputs": [],
   "source": [
    "x = torch.tensor([2.0])"
   ]
  },
  {
   "cell_type": "code",
   "execution_count": 235,
   "metadata": {},
   "outputs": [
    {
     "name": "stdout",
     "output_type": "stream",
     "text": [
      "tensor([-0.6556], grad_fn=<AddBackward0>)\n"
     ]
    }
   ],
   "source": [
    "print(model.forward(x))"
   ]
  },
  {
   "cell_type": "code",
   "execution_count": 236,
   "metadata": {},
   "outputs": [],
   "source": [
    "x1 = np.linspace(0.0,50.0,50)"
   ]
  },
  {
   "cell_type": "code",
   "execution_count": 237,
   "metadata": {},
   "outputs": [
    {
     "data": {
      "text/plain": [
       "array([ 0.        ,  1.02040816,  2.04081633,  3.06122449,  4.08163265,\n",
       "        5.10204082,  6.12244898,  7.14285714,  8.16326531,  9.18367347,\n",
       "       10.20408163, 11.2244898 , 12.24489796, 13.26530612, 14.28571429,\n",
       "       15.30612245, 16.32653061, 17.34693878, 18.36734694, 19.3877551 ,\n",
       "       20.40816327, 21.42857143, 22.44897959, 23.46938776, 24.48979592,\n",
       "       25.51020408, 26.53061224, 27.55102041, 28.57142857, 29.59183673,\n",
       "       30.6122449 , 31.63265306, 32.65306122, 33.67346939, 34.69387755,\n",
       "       35.71428571, 36.73469388, 37.75510204, 38.7755102 , 39.79591837,\n",
       "       40.81632653, 41.83673469, 42.85714286, 43.87755102, 44.89795918,\n",
       "       45.91836735, 46.93877551, 47.95918367, 48.97959184, 50.        ])"
      ]
     },
     "execution_count": 237,
     "metadata": {},
     "output_type": "execute_result"
    }
   ],
   "source": [
    "x1"
   ]
  },
  {
   "cell_type": "code",
   "execution_count": 238,
   "metadata": {},
   "outputs": [],
   "source": [
    "y1 = model.linear.weight.item()*x1 + model.linear.bias.item()"
   ]
  },
  {
   "cell_type": "code",
   "execution_count": 239,
   "metadata": {},
   "outputs": [
    {
     "data": {
      "text/plain": [
       "<matplotlib.collections.PathCollection at 0x24effd5e940>"
      ]
     },
     "execution_count": 239,
     "metadata": {},
     "output_type": "execute_result"
    },
    {
     "data": {
      "image/png": "[encoded data removed]",
      "text/plain": [
       "<Figure size 432x288 with 1 Axes>"
      ]
     },
     "metadata": {
      "needs_background": "light"
     },
     "output_type": "display_data"
    }
   ],
   "source": [
    "plt.plot(x1,y1,'r')\n",
    "plt.scatter(X.numpy(),y.numpy())"
   ]
  },
  {
   "cell_type": "code",
   "execution_count": 240,
   "metadata": {},
   "outputs": [],
   "source": [
    "criterion = nn.MSELoss()"
   ]
  },
  {
   "cell_type": "code",
   "execution_count": 241,
   "metadata": {},
   "outputs": [],
   "source": [
    "optimizer = torch.optim.SGD(model.parameters(),lr=0.001)  "
   ]
  },
  {
   "cell_type": "code",
   "execution_count": 242,
   "metadata": {},
   "outputs": [
    {
     "name": "stdout",
     "output_type": "stream",
     "text": [
      "epoch 1 loss: 4797.005859375 weight: -0.3975948095321655 bias:0.1395951509475708\n",
      "epoch 2 loss: 2476.693115234375 weight: 3.6609559059143066 bias:0.25959330797195435\n",
      "epoch 3 loss: 1278.799560546875 weight: 0.7448551654815674 bias:0.17236536741256714\n",
      "epoch 4 loss: 660.3695678710938 weight: 2.8401482105255127 bias:0.2340330183506012\n",
      "epoch 5 loss: 341.0961608886719 weight: 1.3346779346466064 bias:0.18871739506721497\n",
      "epoch 6 loss: 176.26646423339844 weight: 2.4164113998413086 bias:0.22027137875556946\n",
      "epoch 7 loss: 91.17060852050781 weight: 1.6391992568969727 bias:0.19659385085105896\n",
      "epoch 8 loss: 47.238502502441406 weight: 2.1976678371429443 bias:0.21260149776935577\n",
      "epoch 9 loss: 24.557767868041992 weight: 1.7964295148849487 bias:0.20009523630142212\n",
      "epoch 10 loss: 12.848358154296875 weight: 2.0847551822662354 bias:0.20807713270187378\n",
      "epoch 11 loss: 6.803035736083984 weight: 1.877618670463562 bias:0.20133846998214722\n",
      "epoch 12 loss: 3.68188738822937 weight: 2.0264790058135986 bias:0.20517723262310028\n",
      "epoch 13 loss: 2.070404291152954 weight: 1.9195504188537598 bias:0.20141644775867462\n",
      "epoch 14 loss: 1.2382835149765015 weight: 1.9964101314544678 bias:0.2031165510416031\n",
      "epoch 15 loss: 0.8085264563560486 weight: 1.941214919090271 bias:0.20089340209960938\n",
      "epoch 16 loss: 0.5864928960800171 weight: 1.9809033870697021 bias:0.20148965716362\n",
      "epoch 17 loss: 0.47170290350914 weight: 1.952416181564331 bias:0.20006060600280762\n",
      "epoch 18 loss: 0.41227421164512634 weight: 1.9729145765304565 bias:0.2000872641801834\n",
      "epoch 19 loss: 0.3814309537410736 weight: 1.9582157135009766 bias:0.19906844198703766\n",
      "epoch 20 loss: 0.36534255743026733 weight: 1.9688068628311157 bias:0.19880130887031555\n",
      "epoch 21 loss: 0.35687151551246643 weight: 1.9612267017364502 bias:0.19799456000328064\n",
      "epoch 22 loss: 0.3523365557193756 weight: 1.9667025804519653 bias:0.19757600128650665\n",
      "epoch 23 loss: 0.34983399510383606 weight: 1.9627978801727295 bias:0.19687901437282562\n",
      "epoch 24 loss: 0.34837859869003296 weight: 1.9656331539154053 bias:0.1963825672864914\n",
      "epoch 25 loss: 0.34746450185775757 weight: 1.9636255502700806 bias:0.19574251770973206\n",
      "epoch 26 loss: 0.34682929515838623 weight: 1.9650976657867432 bias:0.19520613551139832\n",
      "epoch 27 loss: 0.34633979201316833 weight: 1.9640694856643677 bias:0.19459573924541473\n",
      "epoch 28 loss: 0.3459244966506958 weight: 1.9648377895355225 bias:0.1940390020608902\n",
      "epoch 29 loss: 0.34554794430732727 weight: 1.9643152952194214 bias:0.19344419240951538\n",
      "epoch 30 loss: 0.34519222378730774 weight: 1.964720368385315 bias:0.19287721812725067\n",
      "epoch 31 loss: 0.3448469638824463 weight: 1.964458703994751 bias:0.19229072332382202\n",
      "epoch 32 loss: 0.34450745582580566 weight: 1.9646762609481812 bias:0.19171874225139618\n",
      "epoch 33 loss: 0.3441695272922516 weight: 1.9645494222640991 bias:0.19113680720329285\n",
      "epoch 34 loss: 0.3438359498977661 weight: 1.9646700620651245 bias:0.19056251645088196\n",
      "epoch 35 loss: 0.3435019552707672 weight: 1.9646129608154297 bias:0.18998321890830994\n",
      "epoch 36 loss: 0.343167781829834 weight: 1.9646834135055542 bias:0.18940798938274384\n",
      "epoch 37 loss: 0.34283551573753357 weight: 1.9646623134613037 bias:0.18883031606674194\n",
      "epoch 38 loss: 0.3425027132034302 weight: 1.9647068977355957 bias:0.18825487792491913\n",
      "epoch 39 loss: 0.34217122197151184 weight: 1.964704155921936 bias:0.18767832219600677\n",
      "epoch 40 loss: 0.3418389856815338 weight: 1.9647356271743774 bias:0.1871030479669571\n",
      "epoch 41 loss: 0.3415069282054901 weight: 1.9647423028945923 bias:0.1865273267030716\n",
      "epoch 42 loss: 0.3411767780780792 weight: 1.9647667407989502 bias:0.18595241010189056\n",
      "epoch 43 loss: 0.34084591269493103 weight: 1.9647786617279053 bias:0.18537740409374237\n",
      "epoch 44 loss: 0.34051647782325745 weight: 1.964799404144287 bias:0.18480293452739716\n",
      "epoch 45 loss: 0.34018567204475403 weight: 1.9648139476776123 bias:0.1842285543680191\n",
      "epoch 46 loss: 0.33985596895217896 weight: 1.9648327827453613 bias:0.18365459144115448\n",
      "epoch 47 loss: 0.33952635526657104 weight: 1.964848518371582 bias:0.18308080732822418\n",
      "epoch 48 loss: 0.3391963541507721 weight: 1.9648663997650146 bias:0.18250736594200134\n",
      "epoch 49 loss: 0.33886945247650146 weight: 1.9648828506469727 bias:0.1819341629743576\n",
      "epoch 50 loss: 0.338541179895401 weight: 1.9649004936218262 bias:0.18136127293109894\n"
     ]
    }
   ],
   "source": [
    "epochs = 50\n",
    "losses = []\n",
    "\n",
    "for i in range(epochs):\n",
    "    i = i + 1\n",
    "    y_pred = model.forward(X)\n",
    "    loss = criterion(y_pred,y)\n",
    "    \n",
    "    losses.append(loss)\n",
    "    \n",
    "    print(f\"epoch {i} loss: {loss.item()} weight: {model.linear.weight.item()} bias:{model.linear.bias.item()}\")\n",
    "    \n",
    "    optimizer.zero_grad()\n",
    "\n",
    "    loss.backward()\n",
    "    optimizer.step()\n",
    "    "
   ]
  },
  {
   "cell_type": "code",
   "execution_count": 243,
   "metadata": {},
   "outputs": [
    {
     "data": {
      "text/plain": [
       "Text(0.5, 0, 'Epoch')"
      ]
     },
     "execution_count": 243,
     "metadata": {},
     "output_type": "execute_result"
    },
    {
     "data": {
      "image/png": "[encoded data removed]",
      "text/plain": [
       "<Figure size 432x288 with 1 Axes>"
      ]
     },
     "metadata": {
      "needs_background": "light"
     },
     "output_type": "display_data"
    }
   ],
   "source": [
    "plt.plot(range(epochs),losses)\n",
    "plt.ylabel('MSE Loss')\n",
    "plt.xlabel('Epoch')"
   ]
  },
  {
   "cell_type": "code",
   "execution_count": 244,
   "metadata": {},
   "outputs": [],
   "source": [
    "x = np.linspace(0.0,50.0,50)\n",
    "current_weight = model.linear.weight.item()\n",
    "current_bias = model.linear.weight.item()\n",
    "predicted_y = current_weight*x + current_bias"
   ]
  },
  {
   "cell_type": "code",
   "execution_count": 245,
   "metadata": {},
   "outputs": [
    {
     "data": {
      "text/plain": [
       "<matplotlib.collections.PathCollection at 0x24effe08978>"
      ]
     },
     "execution_count": 245,
     "metadata": {},
     "output_type": "execute_result"
    },
    {
     "data": {
      "image/png": "[encoded data removed]",
      "text/plain": [
       "<Figure size 432x288 with 1 Axes>"
      ]
     },
     "metadata": {
      "needs_background": "light"
     },
     "output_type": "display_data"
    }
   ],
   "source": [
    "plt.plot(x,predicted_y,'r')\n",
    "plt.scatter(X.numpy(),y.numpy())"
   ]
  },
  {
   "cell_type": "code",
   "execution_count": null,
   "metadata": {},
   "outputs": [],
   "source": []
  }
 ],
 "metadata": {
  "kernelspec": {
   "display_name": "Python 3",
   "language": "python",
   "name": "python3"
  },
  "language_info": {
   "codemirror_mode": {
    "name": "ipython",
    "version": 3
   },
   "file_extension": ".py",
   "mimetype": "text/x-python",
   "name": "python",
   "nbconvert_exporter": "python",
   "pygments_lexer": "ipython3",
   "version": "3.7.3"
  }
 },
 "nbformat": 4,
 "nbformat_minor": 4
}
